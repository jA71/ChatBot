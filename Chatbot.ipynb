{
  "nbformat": 4,
  "nbformat_minor": 0,
  "metadata": {
    "colab": {
      "name": "Chatbot",
      "provenance": [],
      "collapsed_sections": []
    },
    "kernelspec": {
      "name": "python3",
      "display_name": "Python 3"
    },
    "language_info": {
      "name": "python"
    }
  },
  "cells": [
    {
      "cell_type": "code",
      "execution_count": 5,
      "metadata": {
        "colab": {
          "base_uri": "https://localhost:8080/"
        },
        "id": "TdcM8JstZWyr",
        "outputId": "df8678c2-393e-40b9-dde9-f7be6857fa3d"
      },
      "outputs": [
        {
          "output_type": "stream",
          "name": "stdout",
          "text": [
            "Looking in indexes: https://pypi.org/simple, https://us-python.pkg.dev/colab-wheels/public/simple/\n",
            "Requirement already satisfied: transformers in /usr/local/lib/python3.7/dist-packages (4.21.0)\n",
            "Requirement already satisfied: numpy>=1.17 in /usr/local/lib/python3.7/dist-packages (from transformers) (1.21.6)\n",
            "Requirement already satisfied: packaging>=20.0 in /usr/local/lib/python3.7/dist-packages (from transformers) (21.3)\n",
            "Requirement already satisfied: filelock in /usr/local/lib/python3.7/dist-packages (from transformers) (3.7.1)\n",
            "Requirement already satisfied: requests in /usr/local/lib/python3.7/dist-packages (from transformers) (2.23.0)\n",
            "Requirement already satisfied: tqdm>=4.27 in /usr/local/lib/python3.7/dist-packages (from transformers) (4.64.0)\n",
            "Requirement already satisfied: importlib-metadata in /usr/local/lib/python3.7/dist-packages (from transformers) (4.12.0)\n",
            "Requirement already satisfied: pyyaml>=5.1 in /usr/local/lib/python3.7/dist-packages (from transformers) (6.0)\n",
            "Requirement already satisfied: regex!=2019.12.17 in /usr/local/lib/python3.7/dist-packages (from transformers) (2022.6.2)\n",
            "Requirement already satisfied: huggingface-hub<1.0,>=0.1.0 in /usr/local/lib/python3.7/dist-packages (from transformers) (0.8.1)\n",
            "Requirement already satisfied: tokenizers!=0.11.3,<0.13,>=0.11.1 in /usr/local/lib/python3.7/dist-packages (from transformers) (0.12.1)\n",
            "Requirement already satisfied: typing-extensions>=3.7.4.3 in /usr/local/lib/python3.7/dist-packages (from huggingface-hub<1.0,>=0.1.0->transformers) (4.1.1)\n",
            "Requirement already satisfied: pyparsing!=3.0.5,>=2.0.2 in /usr/local/lib/python3.7/dist-packages (from packaging>=20.0->transformers) (3.0.9)\n",
            "Requirement already satisfied: zipp>=0.5 in /usr/local/lib/python3.7/dist-packages (from importlib-metadata->transformers) (3.8.1)\n",
            "Requirement already satisfied: urllib3!=1.25.0,!=1.25.1,<1.26,>=1.21.1 in /usr/local/lib/python3.7/dist-packages (from requests->transformers) (1.24.3)\n",
            "Requirement already satisfied: chardet<4,>=3.0.2 in /usr/local/lib/python3.7/dist-packages (from requests->transformers) (3.0.4)\n",
            "Requirement already satisfied: certifi>=2017.4.17 in /usr/local/lib/python3.7/dist-packages (from requests->transformers) (2022.6.15)\n",
            "Requirement already satisfied: idna<3,>=2.5 in /usr/local/lib/python3.7/dist-packages (from requests->transformers) (2.10)\n",
            "Looking in indexes: https://pypi.org/simple, https://us-python.pkg.dev/colab-wheels/public/simple/\n",
            "Collecting git+git://github.com/ricardodeazambuja/colab_utils.git\n",
            "  Cloning git://github.com/ricardodeazambuja/colab_utils.git to /tmp/pip-req-build-k6uimbz8\n",
            "  Running command git clone -q git://github.com/ricardodeazambuja/colab_utils.git /tmp/pip-req-build-k6uimbz8\n",
            "  fatal: unable to connect to github.com:\n",
            "  github.com[0: 140.82.112.4]: errno=Connection timed out\n",
            "\n",
            "\u001b[33mWARNING: Discarding git+git://github.com/ricardodeazambuja/colab_utils.git. Command errored out with exit status 128: git clone -q git://github.com/ricardodeazambuja/colab_utils.git /tmp/pip-req-build-k6uimbz8 Check the logs for full command output.\u001b[0m\n",
            "\u001b[31mERROR: Command errored out with exit status 128: git clone -q git://github.com/ricardodeazambuja/colab_utils.git /tmp/pip-req-build-k6uimbz8 Check the logs for full command output.\u001b[0m\n",
            "Looking in indexes: https://pypi.org/simple, https://us-python.pkg.dev/colab-wheels/public/simple/\n",
            "Requirement already satisfied: librosa in /usr/local/lib/python3.7/dist-packages (0.8.1)\n",
            "Requirement already satisfied: numba>=0.43.0 in /usr/local/lib/python3.7/dist-packages (from librosa) (0.56.0)\n",
            "Requirement already satisfied: resampy>=0.2.2 in /usr/local/lib/python3.7/dist-packages (from librosa) (0.3.1)\n",
            "Requirement already satisfied: scikit-learn!=0.19.0,>=0.14.0 in /usr/local/lib/python3.7/dist-packages (from librosa) (1.0.2)\n",
            "Requirement already satisfied: pooch>=1.0 in /usr/local/lib/python3.7/dist-packages (from librosa) (1.6.0)\n",
            "Requirement already satisfied: decorator>=3.0.0 in /usr/local/lib/python3.7/dist-packages (from librosa) (4.4.2)\n",
            "Requirement already satisfied: scipy>=1.0.0 in /usr/local/lib/python3.7/dist-packages (from librosa) (1.7.3)\n",
            "Requirement already satisfied: audioread>=2.0.0 in /usr/local/lib/python3.7/dist-packages (from librosa) (2.1.9)\n",
            "Requirement already satisfied: numpy>=1.15.0 in /usr/local/lib/python3.7/dist-packages (from librosa) (1.21.6)\n",
            "Requirement already satisfied: joblib>=0.14 in /usr/local/lib/python3.7/dist-packages (from librosa) (1.1.0)\n",
            "Requirement already satisfied: soundfile>=0.10.2 in /usr/local/lib/python3.7/dist-packages (from librosa) (0.10.3.post1)\n",
            "Requirement already satisfied: packaging>=20.0 in /usr/local/lib/python3.7/dist-packages (from librosa) (21.3)\n",
            "Requirement already satisfied: setuptools in /usr/local/lib/python3.7/dist-packages (from numba>=0.43.0->librosa) (57.4.0)\n",
            "Requirement already satisfied: importlib-metadata in /usr/local/lib/python3.7/dist-packages (from numba>=0.43.0->librosa) (4.12.0)\n",
            "Requirement already satisfied: llvmlite<0.40,>=0.39.0dev0 in /usr/local/lib/python3.7/dist-packages (from numba>=0.43.0->librosa) (0.39.0)\n",
            "Requirement already satisfied: pyparsing!=3.0.5,>=2.0.2 in /usr/local/lib/python3.7/dist-packages (from packaging>=20.0->librosa) (3.0.9)\n",
            "Requirement already satisfied: requests>=2.19.0 in /usr/local/lib/python3.7/dist-packages (from pooch>=1.0->librosa) (2.23.0)\n",
            "Requirement already satisfied: appdirs>=1.3.0 in /usr/local/lib/python3.7/dist-packages (from pooch>=1.0->librosa) (1.4.4)\n",
            "Requirement already satisfied: chardet<4,>=3.0.2 in /usr/local/lib/python3.7/dist-packages (from requests>=2.19.0->pooch>=1.0->librosa) (3.0.4)\n",
            "Requirement already satisfied: idna<3,>=2.5 in /usr/local/lib/python3.7/dist-packages (from requests>=2.19.0->pooch>=1.0->librosa) (2.10)\n",
            "Requirement already satisfied: urllib3!=1.25.0,!=1.25.1,<1.26,>=1.21.1 in /usr/local/lib/python3.7/dist-packages (from requests>=2.19.0->pooch>=1.0->librosa) (1.24.3)\n",
            "Requirement already satisfied: certifi>=2017.4.17 in /usr/local/lib/python3.7/dist-packages (from requests>=2.19.0->pooch>=1.0->librosa) (2022.6.15)\n",
            "Requirement already satisfied: threadpoolctl>=2.0.0 in /usr/local/lib/python3.7/dist-packages (from scikit-learn!=0.19.0,>=0.14.0->librosa) (3.1.0)\n",
            "Requirement already satisfied: cffi>=1.0 in /usr/local/lib/python3.7/dist-packages (from soundfile>=0.10.2->librosa) (1.15.1)\n",
            "Requirement already satisfied: pycparser in /usr/local/lib/python3.7/dist-packages (from cffi>=1.0->soundfile>=0.10.2->librosa) (2.21)\n",
            "Requirement already satisfied: zipp>=0.5 in /usr/local/lib/python3.7/dist-packages (from importlib-metadata->numba>=0.43.0->librosa) (3.8.1)\n",
            "Requirement already satisfied: typing-extensions>=3.6.4 in /usr/local/lib/python3.7/dist-packages (from importlib-metadata->numba>=0.43.0->librosa) (4.1.1)\n"
          ]
        }
      ],
      "source": [
        "# SE INSTALA LOS ELEMENTOS NECESARIOS PARA EL CHATBOT\n",
        "\n",
        "!pip install transformers #wav2vec2 y blenderbot\n",
        "!pip install git+git://github.com/ricardodeazambuja/colab_utils.git #mic\n",
        "!pip install librosa # pre-procesamiento audio\n"
      ]
    },
    {
      "cell_type": "code",
      "source": [
        "# Importar librerías\n",
        "from transformers import Wav2Vec2ForCTC, Wav2Vec2Processor\n",
        "import torch\n",
        "from colab_utils import getAudio\n",
        "import librosa\n",
        "import numpy as np\n",
        "\n",
        "w2v2 = Wav2Vec2ForCTC.from_pretrained(\"facebook/wav2vec2-base-960h\")\n",
        "w2v2_processor = Wav2Vec2Processor.from_pretrained(\"facebook/wav2vec2-base-960h\")"
      ],
      "metadata": {
        "colab": {
          "base_uri": "https://localhost:8080/",
          "height": 356
        },
        "id": "odgHMDnCaH-d",
        "outputId": "567da835-606d-4d60-e6d1-678629872969"
      },
      "execution_count": 6,
      "outputs": [
        {
          "output_type": "error",
          "ename": "ModuleNotFoundError",
          "evalue": "ignored",
          "traceback": [
            "\u001b[0;31m---------------------------------------------------------------------------\u001b[0m",
            "\u001b[0;31mModuleNotFoundError\u001b[0m                       Traceback (most recent call last)",
            "\u001b[0;32m<ipython-input-6-313fbfba103c>\u001b[0m in \u001b[0;36m<module>\u001b[0;34m()\u001b[0m\n\u001b[1;32m      2\u001b[0m \u001b[0;32mfrom\u001b[0m \u001b[0mtransformers\u001b[0m \u001b[0;32mimport\u001b[0m \u001b[0mWav2Vec2ForCTC\u001b[0m\u001b[0;34m,\u001b[0m \u001b[0mWav2Vec2Processor\u001b[0m\u001b[0;34m\u001b[0m\u001b[0;34m\u001b[0m\u001b[0m\n\u001b[1;32m      3\u001b[0m \u001b[0;32mimport\u001b[0m \u001b[0mtorch\u001b[0m\u001b[0;34m\u001b[0m\u001b[0;34m\u001b[0m\u001b[0m\n\u001b[0;32m----> 4\u001b[0;31m \u001b[0;32mfrom\u001b[0m \u001b[0mcolab_utils\u001b[0m \u001b[0;32mimport\u001b[0m \u001b[0mgetAudio\u001b[0m\u001b[0;34m\u001b[0m\u001b[0;34m\u001b[0m\u001b[0m\n\u001b[0m\u001b[1;32m      5\u001b[0m \u001b[0;32mimport\u001b[0m \u001b[0mlibrosa\u001b[0m\u001b[0;34m\u001b[0m\u001b[0;34m\u001b[0m\u001b[0m\n\u001b[1;32m      6\u001b[0m \u001b[0;32mimport\u001b[0m \u001b[0mnumpy\u001b[0m \u001b[0;32mas\u001b[0m \u001b[0mnp\u001b[0m\u001b[0;34m\u001b[0m\u001b[0;34m\u001b[0m\u001b[0m\n",
            "\u001b[0;31mModuleNotFoundError\u001b[0m: No module named 'colab_utils'",
            "",
            "\u001b[0;31m---------------------------------------------------------------------------\u001b[0;32m\nNOTE: If your import is failing due to a missing package, you can\nmanually install dependencies using either !pip or !apt.\n\nTo view examples of installing some common dependencies, click the\n\"Open Examples\" button below.\n\u001b[0;31m---------------------------------------------------------------------------\u001b[0m\n"
          ],
          "errorDetails": {
            "actions": [
              {
                "action": "open_url",
                "actionText": "Open Examples",
                "url": "/notebooks/snippets/importing_libraries.ipynb"
              }
            ]
          }
        }
      ]
    },
    {
      "cell_type": "code",
      "source": [
        "# Capturar audio del mic (a 48 KHz)\n",
        "audio, sr = getAudio()"
      ],
      "metadata": {
        "id": "H628PDKwbGZH"
      },
      "execution_count": null,
      "outputs": []
    },
    {
      "cell_type": "code",
      "source": [
        "# Cambiar tasa de muestreo a 16 KHz (requerido por wav2vec2)\n",
        "audio_float = audio.astype(np.float32)\n",
        "audio_16k = librosa.resample(audio_float, sr, 16000)\n",
        "print(f'Tamaño audio original: {audio_16k.shape}')\n",
        "\n",
        "# Voz a texto\n",
        "entrada = w2v2_processor(audio_16k, sampling_rate=16000, return_tensors=\"pt\").input_values\n",
        "print(f'Tamaño entrada a wav2vec2: {entrada.shape}')\n",
        "probabilidades = w2v2(entrada).logits\n",
        "print(f'Tamaño arreglo probabilidades (salida de wav2vec2): {probabilidades.shape}')\n",
        "predicciones = torch.argmax(probabilidades, dim=-1)\n",
        "print(f'Tamaño arreglo predicciones: {predicciones.shape}')\n",
        "transcripcion = w2v2_processor.decode(predicciones[0])\n",
        "print(transcripcion)"
      ],
      "metadata": {
        "id": "P9iaDGzAbJi-"
      },
      "execution_count": null,
      "outputs": []
    },
    {
      "cell_type": "code",
      "source": [
        "from transformers import AutoTokenizer, AutoModelForSeq2SeqLM\n",
        "tokenizer = AutoTokenizer.from_pretrained(\"facebook/blenderbot-400M-distill\")\n",
        "blender = AutoModelForSeq2SeqLM.from_pretrained(\"facebook/blenderbot-400M-distill\")"
      ],
      "metadata": {
        "id": "Ay2lLehEbMRt"
      },
      "execution_count": null,
      "outputs": []
    },
    {
      "cell_type": "code",
      "source": [
        "blender.generate?"
      ],
      "metadata": {
        "id": "BrxsTyJbbQPx"
      },
      "execution_count": null,
      "outputs": []
    },
    {
      "cell_type": "code",
      "source": [
        "# Prueba inicial\n",
        "entradaBlender = tokenizer([transcripcion], return_tensors='pt')\n",
        "print(f'Frase de entrada: {transcripcion}')\n",
        "print(f'Entrada a BlenderBot: {entradaBlender}')\n",
        "ids_respuesta = blender.generate(**entradaBlender)\n",
        "print(f'Salida BlenderBot: {ids_respuesta}')\n",
        "respuesta = tokenizer.batch_decode(ids_respuesta)\n",
        "print(f'Salida después del Tokenizer: {respuesta}')"
      ],
      "metadata": {
        "id": "sH4MU7hGbSfR"
      },
      "execution_count": null,
      "outputs": []
    },
    {
      "cell_type": "code",
      "source": [
        "# Eliminar tokens de inicio y finalización de frase\n",
        "respuesta = respuesta[0].replace('<s>','').replace('</s>','')\n",
        "print(f'Salida en el formato correcto: {respuesta}')"
      ],
      "metadata": {
        "id": "MvDtw69CbUwo"
      },
      "execution_count": null,
      "outputs": []
    },
    {
      "cell_type": "code",
      "source": [
        "# Crear un corto chat de prueba\n",
        "NFRASES = 5\n",
        "nfrase = 1\n",
        "while nfrase <= NFRASES:\n",
        "  frase = input('-> MIGUEL: ')\n",
        "  entradaBlender = tokenizer([frase], return_tensors='pt')\n",
        "  ids_respuesta = blender.generate(**entradaBlender)\n",
        "  respuesta = tokenizer.batch_decode(ids_respuesta)\n",
        "  respuesta = respuesta[0].replace('<s>','').replace('</s>','')\n",
        "  print(f'-> BLENDERBOT: {respuesta}')\n",
        "\n",
        "  nfrase += 1"
      ],
      "metadata": {
        "id": "GMtkZVOTbXDr"
      },
      "execution_count": null,
      "outputs": []
    },
    {
      "cell_type": "code",
      "source": [
        "NFRASES = 5\n",
        "nfrase = 1\n",
        "\n",
        "while nfrase <= NFRASES:\n",
        "  input()     # Esperar a pulsar tecla para iniciar grabación\n",
        "  \n",
        "  # Capturar audio y llevarlo a 16 KHz\n",
        "  audio, sr = getAudio()\n",
        "  audio_float = audio.astype(np.float32)\n",
        "  audio_16k = librosa.resample(audio_float, sr, 16000)\n",
        "\n",
        "  # Voz a texto\n",
        "  entrada = w2v2_processor(audio_16k, sampling_rate=16000, return_tensors=\"pt\").input_values\n",
        "  probabilidades = w2v2(entrada).logits\n",
        "  predicciones = torch.argmax(probabilidades, dim=-1)\n",
        "  frase = w2v2_processor.decode(predicciones[0])\n",
        "  \n",
        "  # Imprimir transcripción\n",
        "  print(f'-> MIGUEL: {frase}')\n",
        "\n",
        "  # BlenderBot\n",
        "  entradaBlender = tokenizer([frase], return_tensors='pt')\n",
        "  ids_respuesta = blender.generate(**entradaBlender)\n",
        "  respuesta = tokenizer.batch_decode(ids_respuesta)\n",
        "  respuesta = respuesta[0].replace('<s>','').replace('</s>','')\n",
        "  print(f'-> BLENDERBOT: {respuesta}')\n",
        "\n",
        "  nfrase += 1"
      ],
      "metadata": {
        "id": "oYlzmJ_4bZEv"
      },
      "execution_count": null,
      "outputs": []
    },
    {
      "cell_type": "code",
      "source": [
        ""
      ],
      "metadata": {
        "id": "OSy8KtV6bbl_"
      },
      "execution_count": null,
      "outputs": []
    }
  ]
}